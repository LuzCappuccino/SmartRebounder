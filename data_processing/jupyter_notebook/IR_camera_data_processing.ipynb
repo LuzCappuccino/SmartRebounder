{
 "cells": [
  {
   "cell_type": "code",
   "execution_count": 1,
   "metadata": {},
   "outputs": [],
   "source": [
    "import re\n",
    "\n",
    "file = open('teraterm.log', 'r')\n",
    "lines = file.readlines()\n",
    " \n",
    "zero_coords = []\n",
    "one_coords = []\n",
    "    \n",
    "    \n",
    "count = 0\n",
    "curr_coords = ''\n",
    "for line in lines:\n",
    "    curr_coords += line\n",
    "    count += 1\n",
    "    if count % 5 == 0:\n",
    "        res = re.search('0: \\([+-]?([0-9]*[.])?[0-9]+, [+-]?([0-9]*[.])?[0-9]+\\)', curr_coords)\n",
    "        zero_coords.append((int(float(res.group(1))), int(float(res.group(2)))))\n",
    "        res = re.search('1: \\([+-]?([0-9]*[.])?[0-9]+, [+-]?([0-9]*[.])?[0-9]+\\)', curr_coords)\n",
    "        one_coords.append((int(float(res.group(1))), int(float(res.group(2)))))\n",
    "        curr_coords = ''\n",
    "        \n",
    "#print(zero_coords)\n",
    "#print(one_coords)"
   ]
  },
  {
   "cell_type": "code",
   "execution_count": 2,
   "metadata": {},
   "outputs": [],
   "source": [
    "%%capture\n",
    "from matplotlib import animation, pyplot as plt\n",
    "plt.rcParams['figure.figsize'] = 10, 10\n",
    "import sys\n",
    "\n",
    "size = len(zero_coords)\n",
    "zero_coords = zero_coords[int(0.83*size):int(0.85*size)]\n",
    "\n",
    "x, y = zip(*zero_coords)\n",
    "#x, y = zip(*one_coords)\n",
    "\n",
    "fig = plt.figure()\n",
    "plt.xlim(0, 1024)\n",
    "plt.ylim(0, 1024)\n",
    "graph, = plt.plot([], [], 'o')\n",
    "\n",
    "def animate(i):\n",
    "    graph.set_data(x[:i+1], y[:i+1])\n",
    "    return graph\n",
    "\n",
    "ani = animation.FuncAnimation(fig, animate, frames=len(x), interval=100)\n",
    "ani.save('myAnimation.gif', writer='imagemagick')"
   ]
  },
  {
   "cell_type": "code",
   "execution_count": 4,
   "metadata": {},
   "outputs": [
    {
     "data": {
      "text/plain": [
       "<matplotlib.animation.FuncAnimation at 0x7fc49098ffa0>"
      ]
     },
     "execution_count": 4,
     "metadata": {},
     "output_type": "execute_result"
    }
   ],
   "source": [
    "ani # takes about 1 minute to load..."
   ]
  },
  {
   "cell_type": "code",
   "execution_count": null,
   "metadata": {},
   "outputs": [],
   "source": []
  }
 ],
 "metadata": {
  "kernelspec": {
   "display_name": "Python 3",
   "language": "python",
   "name": "python3"
  },
  "language_info": {
   "codemirror_mode": {
    "name": "ipython",
    "version": 3
   },
   "file_extension": ".py",
   "mimetype": "text/x-python",
   "name": "python",
   "nbconvert_exporter": "python",
   "pygments_lexer": "ipython3",
   "version": "3.8.5"
  }
 },
 "nbformat": 4,
 "nbformat_minor": 4
}
